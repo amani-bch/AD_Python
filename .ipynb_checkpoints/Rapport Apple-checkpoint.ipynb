{
 "cells": [
  {
   "cell_type": "markdown",
   "id": "cd5abd4b",
   "metadata": {},
   "source": [
    "# Introduction\n",
    "\n",
    "\n",
    "\n",
    "## Entreprise Apple\n",
    "\n",
    "Apple Inc. est une entreprise technologique mondialement reconnue, fondée en 1976 par Steve Jobs, Steve Wozniak et Ronald Wayne. Basée à Cupertino, en Californie, Apple est célèbre pour ses produits emblématiques tels que l'iPhone, l'iPad et le Mac, ainsi que pour son système d'exploitation iOS. L'entreprise propose également une gamme de services, dont iTunes, l'App Store et iCloud. Grâce à son design innovant et à son écosystème intégré, Apple est devenue une référence d'excellence dans l'industrie technologique.\n",
    "\n",
    "\n",
    "\n",
    "\n",
    "\n",
    "## Cahier Jupyter\n",
    "\n",
    "Cet cahier d'analyse examine la performance boursière de Tesla à travers des visualisations. Il explore des indicateurs financiers clés tels que les prix historiques, le volume et la capitalisation boursière. Les visualisations comprennent des graphiques linéaires des prix de clôture au fil du temps, des indicateurs calculés tels que les rendements quotidiens et les moyennes mobiles, ainsi que des graphiques en chandeliers pour montrer les fluctuations quotidiennes des prix. Le cahier se termine par des conclusions et des enseignements clés. Il vise à aider les investisseurs et les analystes à prendre des décisions éclairées basées sur des données historiques et des insights visuels."
   ]
  },
  {
   "cell_type": "markdown",
   "id": "c397ed2f",
   "metadata": {},
   "source": [
    "#  <br> <br> <br> <p style=\"text-align:center\"><span style=\"font-size:72px\">📚</span><span style=\"color:#8e44ad\"><span style=\"font-size:48px\"><span style=\"font-family:Comic Sans MS,cursive\">&nbsp;Importation des Biblioth&eacute;ques&nbsp;</span></span></span></p>\n",
    "\n",
    "<p style=\"text-align:center\">&nbsp;</p>\n",
    "\n",
    "<hr />\n",
    "<p>&nbsp;</p>\n"
   ]
  },
  {
   "cell_type": "code",
   "execution_count": 6,
   "id": "59fd1339",
   "metadata": {},
   "outputs": [],
   "source": [
    "#une bibliothèque de visualisation en 2D\n",
    "import matplotlib.pyplot as plt\n",
    "\n",
    "#une bibliothèque fondamentale pour le calcul numérique\n",
    "import numpy as np\n",
    "\n",
    "#une bibliothèque de visualisation de données et création des graphiques statistiques \n",
    "import seaborn as sns\n",
    "\n",
    "#une bibliothèque qui offre des structures de données et des outils d'analyse de données puissants. \n",
    "import pandas as pd"
   ]
  },
  {
   "cell_type": "markdown",
   "id": "00f4e51c",
   "metadata": {},
   "source": [
    "# <br> <br> <br> <p style=\"text-align:center\"><span style=\"font-size:72px\">📊</span><span style=\"color:#8e44ad\"><span style=\"font-size:48px\"><span style=\"font-family:Comic Sans MS,cursive\">&nbsp;Importation & Affichage des donn&eacute;es</span></span></span></p>\n",
    "\n",
    "<p style=\"text-align:center\">&nbsp;</p>\n",
    "\n",
    "<hr />\n",
    "<p>&nbsp;</p>\n"
   ]
  },
  {
   "cell_type": "code",
   "execution_count": 9,
   "id": "967f42fa",
   "metadata": {},
   "outputs": [],
   "source": [
    "data = pd.read_csv(\"AAPL.csv\")"
   ]
  },
  {
   "cell_type": "markdown",
   "id": "0875fb75",
   "metadata": {},
   "source": [
    "#### Afficher les 5 prmiers Jours des Données\n"
   ]
  },
  {
   "cell_type": "code",
   "execution_count": 12,
   "id": "bd32dd0c",
   "metadata": {},
   "outputs": [
    {
     "data": {
      "text/html": [
       "<div>\n",
       "<style scoped>\n",
       "    .dataframe tbody tr th:only-of-type {\n",
       "        vertical-align: middle;\n",
       "    }\n",
       "\n",
       "    .dataframe tbody tr th {\n",
       "        vertical-align: top;\n",
       "    }\n",
       "\n",
       "    .dataframe thead th {\n",
       "        text-align: right;\n",
       "    }\n",
       "</style>\n",
       "<table border=\"1\" class=\"dataframe\">\n",
       "  <thead>\n",
       "    <tr style=\"text-align: right;\">\n",
       "      <th></th>\n",
       "      <th>Date</th>\n",
       "      <th>Open</th>\n",
       "      <th>High</th>\n",
       "      <th>Low</th>\n",
       "      <th>Close</th>\n",
       "      <th>Adj Close</th>\n",
       "      <th>Volume</th>\n",
       "    </tr>\n",
       "  </thead>\n",
       "  <tbody>\n",
       "    <tr>\n",
       "      <th>0</th>\n",
       "      <td>2000-12-06</td>\n",
       "      <td>0.261161</td>\n",
       "      <td>0.267857</td>\n",
       "      <td>0.250000</td>\n",
       "      <td>0.255580</td>\n",
       "      <td>0.216650</td>\n",
       "      <td>1374464000</td>\n",
       "    </tr>\n",
       "    <tr>\n",
       "      <th>1</th>\n",
       "      <td>2000-12-07</td>\n",
       "      <td>0.257813</td>\n",
       "      <td>0.265625</td>\n",
       "      <td>0.250000</td>\n",
       "      <td>0.255580</td>\n",
       "      <td>0.216650</td>\n",
       "      <td>408917600</td>\n",
       "    </tr>\n",
       "    <tr>\n",
       "      <th>2</th>\n",
       "      <td>2000-12-08</td>\n",
       "      <td>0.264509</td>\n",
       "      <td>0.273438</td>\n",
       "      <td>0.257813</td>\n",
       "      <td>0.268973</td>\n",
       "      <td>0.228003</td>\n",
       "      <td>435624000</td>\n",
       "    </tr>\n",
       "    <tr>\n",
       "      <th>3</th>\n",
       "      <td>2000-12-11</td>\n",
       "      <td>0.271205</td>\n",
       "      <td>0.274554</td>\n",
       "      <td>0.265625</td>\n",
       "      <td>0.271205</td>\n",
       "      <td>0.229895</td>\n",
       "      <td>332511200</td>\n",
       "    </tr>\n",
       "    <tr>\n",
       "      <th>4</th>\n",
       "      <td>2000-12-12</td>\n",
       "      <td>0.272321</td>\n",
       "      <td>0.285714</td>\n",
       "      <td>0.267857</td>\n",
       "      <td>0.274554</td>\n",
       "      <td>0.232734</td>\n",
       "      <td>386260000</td>\n",
       "    </tr>\n",
       "  </tbody>\n",
       "</table>\n",
       "</div>"
      ],
      "text/plain": [
       "         Date      Open      High       Low     Close  Adj Close      Volume\n",
       "0  2000-12-06  0.261161  0.267857  0.250000  0.255580   0.216650  1374464000\n",
       "1  2000-12-07  0.257813  0.265625  0.250000  0.255580   0.216650   408917600\n",
       "2  2000-12-08  0.264509  0.273438  0.257813  0.268973   0.228003   435624000\n",
       "3  2000-12-11  0.271205  0.274554  0.265625  0.271205   0.229895   332511200\n",
       "4  2000-12-12  0.272321  0.285714  0.267857  0.274554   0.232734   386260000"
      ]
     },
     "execution_count": 12,
     "metadata": {},
     "output_type": "execute_result"
    }
   ],
   "source": [
    "data.head()"
   ]
  },
  {
   "cell_type": "markdown",
   "id": "4d1b9f4e",
   "metadata": {},
   "source": [
    "#### Afficher les 5 Derniers Jours des Données\n"
   ]
  },
  {
   "cell_type": "code",
   "execution_count": 13,
   "id": "257a639f",
   "metadata": {},
   "outputs": [
    {
     "data": {
      "text/html": [
       "<div>\n",
       "<style scoped>\n",
       "    .dataframe tbody tr th:only-of-type {\n",
       "        vertical-align: middle;\n",
       "    }\n",
       "\n",
       "    .dataframe tbody tr th {\n",
       "        vertical-align: top;\n",
       "    }\n",
       "\n",
       "    .dataframe thead th {\n",
       "        text-align: right;\n",
       "    }\n",
       "</style>\n",
       "<table border=\"1\" class=\"dataframe\">\n",
       "  <thead>\n",
       "    <tr style=\"text-align: right;\">\n",
       "      <th></th>\n",
       "      <th>Date</th>\n",
       "      <th>Open</th>\n",
       "      <th>High</th>\n",
       "      <th>Low</th>\n",
       "      <th>Close</th>\n",
       "      <th>Adj Close</th>\n",
       "      <th>Volume</th>\n",
       "    </tr>\n",
       "  </thead>\n",
       "  <tbody>\n",
       "    <tr>\n",
       "      <th>5784</th>\n",
       "      <td>2023-12-05</td>\n",
       "      <td>190.210007</td>\n",
       "      <td>194.399994</td>\n",
       "      <td>190.179993</td>\n",
       "      <td>193.419998</td>\n",
       "      <td>193.419998</td>\n",
       "      <td>66371700</td>\n",
       "    </tr>\n",
       "    <tr>\n",
       "      <th>5783</th>\n",
       "      <td>2023-12-04</td>\n",
       "      <td>189.979996</td>\n",
       "      <td>190.050003</td>\n",
       "      <td>187.449997</td>\n",
       "      <td>189.429993</td>\n",
       "      <td>189.429993</td>\n",
       "      <td>43389500</td>\n",
       "    </tr>\n",
       "    <tr>\n",
       "      <th>5782</th>\n",
       "      <td>2023-12-01</td>\n",
       "      <td>190.330002</td>\n",
       "      <td>191.559998</td>\n",
       "      <td>189.229996</td>\n",
       "      <td>191.240005</td>\n",
       "      <td>191.240005</td>\n",
       "      <td>45679300</td>\n",
       "    </tr>\n",
       "    <tr>\n",
       "      <th>5781</th>\n",
       "      <td>2023-11-30</td>\n",
       "      <td>189.839996</td>\n",
       "      <td>190.320007</td>\n",
       "      <td>188.190002</td>\n",
       "      <td>189.949997</td>\n",
       "      <td>189.949997</td>\n",
       "      <td>48794400</td>\n",
       "    </tr>\n",
       "    <tr>\n",
       "      <th>5780</th>\n",
       "      <td>2023-11-29</td>\n",
       "      <td>190.899994</td>\n",
       "      <td>192.089996</td>\n",
       "      <td>188.970001</td>\n",
       "      <td>189.369995</td>\n",
       "      <td>189.369995</td>\n",
       "      <td>43014200</td>\n",
       "    </tr>\n",
       "  </tbody>\n",
       "</table>\n",
       "</div>"
      ],
      "text/plain": [
       "            Date        Open        High         Low       Close   Adj Close  \\\n",
       "5784  2023-12-05  190.210007  194.399994  190.179993  193.419998  193.419998   \n",
       "5783  2023-12-04  189.979996  190.050003  187.449997  189.429993  189.429993   \n",
       "5782  2023-12-01  190.330002  191.559998  189.229996  191.240005  191.240005   \n",
       "5781  2023-11-30  189.839996  190.320007  188.190002  189.949997  189.949997   \n",
       "5780  2023-11-29  190.899994  192.089996  188.970001  189.369995  189.369995   \n",
       "\n",
       "        Volume  \n",
       "5784  66371700  \n",
       "5783  43389500  \n",
       "5782  45679300  \n",
       "5781  48794400  \n",
       "5780  43014200  "
      ]
     },
     "execution_count": 13,
     "metadata": {},
     "output_type": "execute_result"
    }
   ],
   "source": [
    "data.sort_values(by=['Date'] ,ascending=False).head()"
   ]
  },
  {
   "cell_type": "markdown",
   "id": "e20bfd61",
   "metadata": {},
   "source": [
    "#### Copier les données pour les visualiser d'une maniére lisible Pour un non-connaisseur"
   ]
  },
  {
   "cell_type": "code",
   "execution_count": 14,
   "id": "e45c5b51",
   "metadata": {},
   "outputs": [],
   "source": [
    "vis = data.copy()"
   ]
  },
  {
   "cell_type": "code",
   "execution_count": 18,
   "id": "cede8604",
   "metadata": {},
   "outputs": [
    {
     "ename": "UFuncTypeError",
     "evalue": "ufunc 'add' did not contain a loop with signature matching types (dtype('float64'), dtype('<U1')) -> None",
     "output_type": "error",
     "traceback": [
      "\u001b[1;31m---------------------------------------------------------------------------\u001b[0m",
      "\u001b[1;31mUFuncTypeError\u001b[0m                            Traceback (most recent call last)",
      "Cell \u001b[1;32mIn[18], line 1\u001b[0m\n\u001b[1;32m----> 1\u001b[0m vis[\u001b[38;5;124m'\u001b[39m\u001b[38;5;124mOpen\u001b[39m\u001b[38;5;124m'\u001b[39m] \u001b[38;5;241m=\u001b[39m \u001b[38;5;28mround\u001b[39m(vis[\u001b[38;5;124m\"\u001b[39m\u001b[38;5;124mOpen\u001b[39m\u001b[38;5;124m\"\u001b[39m],\u001b[38;5;241m3\u001b[39m) \u001b[38;5;241m+\u001b[39m \u001b[38;5;124m\"\u001b[39m\u001b[38;5;124m$\u001b[39m\u001b[38;5;124m\"\u001b[39m\n",
      "File \u001b[1;32mD:\\Users\\dhiab\\anaconda3\\Lib\\site-packages\\pandas\\core\\ops\\common.py:81\u001b[0m, in \u001b[0;36m_unpack_zerodim_and_defer.<locals>.new_method\u001b[1;34m(self, other)\u001b[0m\n\u001b[0;32m     77\u001b[0m             \u001b[38;5;28;01mreturn\u001b[39;00m \u001b[38;5;28mNotImplemented\u001b[39m\n\u001b[0;32m     79\u001b[0m other \u001b[38;5;241m=\u001b[39m item_from_zerodim(other)\n\u001b[1;32m---> 81\u001b[0m \u001b[38;5;28;01mreturn\u001b[39;00m method(\u001b[38;5;28mself\u001b[39m, other)\n",
      "File \u001b[1;32mD:\\Users\\dhiab\\anaconda3\\Lib\\site-packages\\pandas\\core\\arraylike.py:186\u001b[0m, in \u001b[0;36mOpsMixin.__add__\u001b[1;34m(self, other)\u001b[0m\n\u001b[0;32m     98\u001b[0m \u001b[38;5;129m@unpack_zerodim_and_defer\u001b[39m(\u001b[38;5;124m\"\u001b[39m\u001b[38;5;124m__add__\u001b[39m\u001b[38;5;124m\"\u001b[39m)\n\u001b[0;32m     99\u001b[0m \u001b[38;5;28;01mdef\u001b[39;00m \u001b[38;5;21m__add__\u001b[39m(\u001b[38;5;28mself\u001b[39m, other):\n\u001b[0;32m    100\u001b[0m \u001b[38;5;250m    \u001b[39m\u001b[38;5;124;03m\"\"\"\u001b[39;00m\n\u001b[0;32m    101\u001b[0m \u001b[38;5;124;03m    Get Addition of DataFrame and other, column-wise.\u001b[39;00m\n\u001b[0;32m    102\u001b[0m \n\u001b[1;32m   (...)\u001b[0m\n\u001b[0;32m    184\u001b[0m \u001b[38;5;124;03m    moose     3.0     NaN\u001b[39;00m\n\u001b[0;32m    185\u001b[0m \u001b[38;5;124;03m    \"\"\"\u001b[39;00m\n\u001b[1;32m--> 186\u001b[0m     \u001b[38;5;28;01mreturn\u001b[39;00m \u001b[38;5;28mself\u001b[39m\u001b[38;5;241m.\u001b[39m_arith_method(other, operator\u001b[38;5;241m.\u001b[39madd)\n",
      "File \u001b[1;32mD:\\Users\\dhiab\\anaconda3\\Lib\\site-packages\\pandas\\core\\series.py:6112\u001b[0m, in \u001b[0;36mSeries._arith_method\u001b[1;34m(self, other, op)\u001b[0m\n\u001b[0;32m   6110\u001b[0m \u001b[38;5;28;01mdef\u001b[39;00m \u001b[38;5;21m_arith_method\u001b[39m(\u001b[38;5;28mself\u001b[39m, other, op):\n\u001b[0;32m   6111\u001b[0m     \u001b[38;5;28mself\u001b[39m, other \u001b[38;5;241m=\u001b[39m ops\u001b[38;5;241m.\u001b[39malign_method_SERIES(\u001b[38;5;28mself\u001b[39m, other)\n\u001b[1;32m-> 6112\u001b[0m     \u001b[38;5;28;01mreturn\u001b[39;00m base\u001b[38;5;241m.\u001b[39mIndexOpsMixin\u001b[38;5;241m.\u001b[39m_arith_method(\u001b[38;5;28mself\u001b[39m, other, op)\n",
      "File \u001b[1;32mD:\\Users\\dhiab\\anaconda3\\Lib\\site-packages\\pandas\\core\\base.py:1348\u001b[0m, in \u001b[0;36mIndexOpsMixin._arith_method\u001b[1;34m(self, other, op)\u001b[0m\n\u001b[0;32m   1345\u001b[0m rvalues \u001b[38;5;241m=\u001b[39m ensure_wrapped_if_datetimelike(rvalues)\n\u001b[0;32m   1347\u001b[0m \u001b[38;5;28;01mwith\u001b[39;00m np\u001b[38;5;241m.\u001b[39merrstate(\u001b[38;5;28mall\u001b[39m\u001b[38;5;241m=\u001b[39m\u001b[38;5;124m\"\u001b[39m\u001b[38;5;124mignore\u001b[39m\u001b[38;5;124m\"\u001b[39m):\n\u001b[1;32m-> 1348\u001b[0m     result \u001b[38;5;241m=\u001b[39m ops\u001b[38;5;241m.\u001b[39marithmetic_op(lvalues, rvalues, op)\n\u001b[0;32m   1350\u001b[0m \u001b[38;5;28;01mreturn\u001b[39;00m \u001b[38;5;28mself\u001b[39m\u001b[38;5;241m.\u001b[39m_construct_result(result, name\u001b[38;5;241m=\u001b[39mres_name)\n",
      "File \u001b[1;32mD:\\Users\\dhiab\\anaconda3\\Lib\\site-packages\\pandas\\core\\ops\\array_ops.py:232\u001b[0m, in \u001b[0;36marithmetic_op\u001b[1;34m(left, right, op)\u001b[0m\n\u001b[0;32m    228\u001b[0m     _bool_arith_check(op, left, right)\n\u001b[0;32m    230\u001b[0m     \u001b[38;5;66;03m# error: Argument 1 to \"_na_arithmetic_op\" has incompatible type\u001b[39;00m\n\u001b[0;32m    231\u001b[0m     \u001b[38;5;66;03m# \"Union[ExtensionArray, ndarray[Any, Any]]\"; expected \"ndarray[Any, Any]\"\u001b[39;00m\n\u001b[1;32m--> 232\u001b[0m     res_values \u001b[38;5;241m=\u001b[39m _na_arithmetic_op(left, right, op)  \u001b[38;5;66;03m# type: ignore[arg-type]\u001b[39;00m\n\u001b[0;32m    234\u001b[0m \u001b[38;5;28;01mreturn\u001b[39;00m res_values\n",
      "File \u001b[1;32mD:\\Users\\dhiab\\anaconda3\\Lib\\site-packages\\pandas\\core\\ops\\array_ops.py:171\u001b[0m, in \u001b[0;36m_na_arithmetic_op\u001b[1;34m(left, right, op, is_cmp)\u001b[0m\n\u001b[0;32m    168\u001b[0m     func \u001b[38;5;241m=\u001b[39m partial(expressions\u001b[38;5;241m.\u001b[39mevaluate, op)\n\u001b[0;32m    170\u001b[0m \u001b[38;5;28;01mtry\u001b[39;00m:\n\u001b[1;32m--> 171\u001b[0m     result \u001b[38;5;241m=\u001b[39m func(left, right)\n\u001b[0;32m    172\u001b[0m \u001b[38;5;28;01mexcept\u001b[39;00m \u001b[38;5;167;01mTypeError\u001b[39;00m:\n\u001b[0;32m    173\u001b[0m     \u001b[38;5;28;01mif\u001b[39;00m \u001b[38;5;129;01mnot\u001b[39;00m is_cmp \u001b[38;5;129;01mand\u001b[39;00m (is_object_dtype(left\u001b[38;5;241m.\u001b[39mdtype) \u001b[38;5;129;01mor\u001b[39;00m is_object_dtype(right)):\n\u001b[0;32m    174\u001b[0m         \u001b[38;5;66;03m# For object dtype, fallback to a masked operation (only operating\u001b[39;00m\n\u001b[0;32m    175\u001b[0m         \u001b[38;5;66;03m#  on the non-missing values)\u001b[39;00m\n\u001b[0;32m    176\u001b[0m         \u001b[38;5;66;03m# Don't do this for comparisons, as that will handle complex numbers\u001b[39;00m\n\u001b[0;32m    177\u001b[0m         \u001b[38;5;66;03m#  incorrectly, see GH#32047\u001b[39;00m\n",
      "\u001b[1;31mUFuncTypeError\u001b[0m: ufunc 'add' did not contain a loop with signature matching types (dtype('float64'), dtype('<U1')) -> None"
     ]
    }
   ],
   "source": [
    "vis['Open'] = round(vis[\"Open\"],3) + \"$\""
   ]
  },
  {
   "cell_type": "code",
   "execution_count": null,
   "id": "f36a7ec5",
   "metadata": {},
   "outputs": [],
   "source": [
    "data"
   ]
  },
  {
   "cell_type": "code",
   "execution_count": null,
   "id": "2712b9ee",
   "metadata": {},
   "outputs": [],
   "source": []
  }
 ],
 "metadata": {
  "kernelspec": {
   "display_name": "Python 3 (ipykernel)",
   "language": "python",
   "name": "python3"
  },
  "language_info": {
   "codemirror_mode": {
    "name": "ipython",
    "version": 3
   },
   "file_extension": ".py",
   "mimetype": "text/x-python",
   "name": "python",
   "nbconvert_exporter": "python",
   "pygments_lexer": "ipython3",
   "version": "3.11.5"
  }
 },
 "nbformat": 4,
 "nbformat_minor": 5
}
