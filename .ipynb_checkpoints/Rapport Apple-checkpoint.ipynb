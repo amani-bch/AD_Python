{
 "cells": [
  {
   "cell_type": "markdown",
   "id": "75f1c408",
   "metadata": {},
   "source": [
    "# Introduction\n",
    "\n",
    "\n",
    "\n",
    "## Entreprise Apple\n",
    "\n",
    "Apple Inc. est une entreprise technologique mondialement reconnue, fondée en 1976 par Steve Jobs, Steve Wozniak et Ronald Wayne. Basée à Cupertino, en Californie, Apple est célèbre pour ses produits emblématiques tels que l'iPhone, l'iPad et le Mac, ainsi que pour son système d'exploitation iOS. L'entreprise propose également une gamme de services, dont iTunes, l'App Store et iCloud. Grâce à son design innovant et à son écosystème intégré, Apple est devenue une référence d'excellence dans l'industrie technologique.\n",
    "\n",
    "\n",
    "\n",
    "\n",
    "\n",
    "## Cahier Jupyter\n",
    "\n",
    "Cet cahier d'analyse examine la performance boursière de Tesla à travers des visualisations. Il explore des indicateurs financiers clés tels que les prix historiques, le volume et la capitalisation boursière. Les visualisations comprennent des graphiques linéaires des prix de clôture au fil du temps, des indicateurs calculés tels que les rendements quotidiens et les moyennes mobiles, ainsi que des graphiques en chandeliers pour montrer les fluctuations quotidiennes des prix. Le cahier se termine par des conclusions et des enseignements clés. Il vise à aider les investisseurs et les analystes à prendre des décisions éclairées basées sur des données historiques et des insights visuels."
   ]
  },
  {
   "cell_type": "markdown",
   "id": "3aba2df5",
   "metadata": {},
   "source": [
    "#  <br> <br> <br> <p style=\"text-align:center\"><span style=\"font-size:72px\">📚</span><span style=\"color:#8e44ad\"><span style=\"font-size:48px\"><span style=\"font-family:Comic Sans MS,cursive\">&nbsp;Importation des Biblioth&eacute;ques&nbsp;</span></span></span></p>\n",
    "\n",
    "<p style=\"text-align:center\">&nbsp;</p>\n",
    "\n",
    "<hr />\n",
    "<p>&nbsp;</p>\n"
   ]
  },
  {
   "cell_type": "code",
   "execution_count": 6,
   "id": "eb2e9410",
   "metadata": {},
   "outputs": [],
   "source": [
    "#une bibliothèque de visualisation en 2D\n",
    "import matplotlib.pyplot as plt\n",
    "\n",
    "#une bibliothèque fondamentale pour le calcul numérique\n",
    "import numpy as np\n",
    "\n",
    "#une bibliothèque de visualisation de données et création des graphiques statistiques \n",
    "import seaborn as sns\n",
    "\n",
    "#une bibliothèque qui offre des structures de données et des outils d'analyse de données puissants. \n",
    "import pandas as pd"
   ]
  },
  {
   "cell_type": "markdown",
   "id": "0d98335c",
   "metadata": {},
   "source": [
    "# <br> <br> <br> <p style=\"text-align:center\"><span style=\"font-size:72px\">📊</span><span style=\"color:#8e44ad\"><span style=\"font-size:48px\"><span style=\"font-family:Comic Sans MS,cursive\">&nbsp;Importation & Affichage des donn&eacute;es</span></span></span></p>\n",
    "\n",
    "<p style=\"text-align:center\">&nbsp;</p>\n",
    "\n",
    "<hr />\n",
    "<p>&nbsp;</p>\n"
   ]
  },
  {
   "cell_type": "code",
   "execution_count": 9,
   "id": "86b08d89",
   "metadata": {},
   "outputs": [],
   "source": [
    "data = pd.read_csv(\"AAPL.csv\")"
   ]
  },
  {
   "cell_type": "markdown",
   "id": "eebd2a36",
   "metadata": {},
   "source": [
    "#### Afficher les 5 prmiers Jours des Données\n"
   ]
  },
  {
   "cell_type": "code",
   "execution_count": 12,
   "id": "f0f1efaf",
   "metadata": {},
   "outputs": [
    {
     "data": {
      "text/html": [
       "<div>\n",
       "<style scoped>\n",
       "    .dataframe tbody tr th:only-of-type {\n",
       "        vertical-align: middle;\n",
       "    }\n",
       "\n",
       "    .dataframe tbody tr th {\n",
       "        vertical-align: top;\n",
       "    }\n",
       "\n",
       "    .dataframe thead th {\n",
       "        text-align: right;\n",
       "    }\n",
       "</style>\n",
       "<table border=\"1\" class=\"dataframe\">\n",
       "  <thead>\n",
       "    <tr style=\"text-align: right;\">\n",
       "      <th></th>\n",
       "      <th>Date</th>\n",
       "      <th>Open</th>\n",
       "      <th>High</th>\n",
       "      <th>Low</th>\n",
       "      <th>Close</th>\n",
       "      <th>Adj Close</th>\n",
       "      <th>Volume</th>\n",
       "    </tr>\n",
       "  </thead>\n",
       "  <tbody>\n",
       "    <tr>\n",
       "      <th>0</th>\n",
       "      <td>2000-12-06</td>\n",
       "      <td>0.261161</td>\n",
       "      <td>0.267857</td>\n",
       "      <td>0.250000</td>\n",
       "      <td>0.255580</td>\n",
       "      <td>0.216650</td>\n",
       "      <td>1374464000</td>\n",
       "    </tr>\n",
       "    <tr>\n",
       "      <th>1</th>\n",
       "      <td>2000-12-07</td>\n",
       "      <td>0.257813</td>\n",
       "      <td>0.265625</td>\n",
       "      <td>0.250000</td>\n",
       "      <td>0.255580</td>\n",
       "      <td>0.216650</td>\n",
       "      <td>408917600</td>\n",
       "    </tr>\n",
       "    <tr>\n",
       "      <th>2</th>\n",
       "      <td>2000-12-08</td>\n",
       "      <td>0.264509</td>\n",
       "      <td>0.273438</td>\n",
       "      <td>0.257813</td>\n",
       "      <td>0.268973</td>\n",
       "      <td>0.228003</td>\n",
       "      <td>435624000</td>\n",
       "    </tr>\n",
       "    <tr>\n",
       "      <th>3</th>\n",
       "      <td>2000-12-11</td>\n",
       "      <td>0.271205</td>\n",
       "      <td>0.274554</td>\n",
       "      <td>0.265625</td>\n",
       "      <td>0.271205</td>\n",
       "      <td>0.229895</td>\n",
       "      <td>332511200</td>\n",
       "    </tr>\n",
       "    <tr>\n",
       "      <th>4</th>\n",
       "      <td>2000-12-12</td>\n",
       "      <td>0.272321</td>\n",
       "      <td>0.285714</td>\n",
       "      <td>0.267857</td>\n",
       "      <td>0.274554</td>\n",
       "      <td>0.232734</td>\n",
       "      <td>386260000</td>\n",
       "    </tr>\n",
       "  </tbody>\n",
       "</table>\n",
       "</div>"
      ],
      "text/plain": [
       "         Date      Open      High       Low     Close  Adj Close      Volume\n",
       "0  2000-12-06  0.261161  0.267857  0.250000  0.255580   0.216650  1374464000\n",
       "1  2000-12-07  0.257813  0.265625  0.250000  0.255580   0.216650   408917600\n",
       "2  2000-12-08  0.264509  0.273438  0.257813  0.268973   0.228003   435624000\n",
       "3  2000-12-11  0.271205  0.274554  0.265625  0.271205   0.229895   332511200\n",
       "4  2000-12-12  0.272321  0.285714  0.267857  0.274554   0.232734   386260000"
      ]
     },
     "execution_count": 12,
     "metadata": {},
     "output_type": "execute_result"
    }
   ],
   "source": [
    "data.head()"
   ]
  },
  {
   "cell_type": "markdown",
   "id": "b9ba83ee",
   "metadata": {},
   "source": [
    "#### Afficher les 5 Derniers Jours des Données\n"
   ]
  },
  {
   "cell_type": "code",
   "execution_count": 13,
   "id": "78ed58c8",
   "metadata": {},
   "outputs": [
    {
     "data": {
      "text/html": [
       "<div>\n",
       "<style scoped>\n",
       "    .dataframe tbody tr th:only-of-type {\n",
       "        vertical-align: middle;\n",
       "    }\n",
       "\n",
       "    .dataframe tbody tr th {\n",
       "        vertical-align: top;\n",
       "    }\n",
       "\n",
       "    .dataframe thead th {\n",
       "        text-align: right;\n",
       "    }\n",
       "</style>\n",
       "<table border=\"1\" class=\"dataframe\">\n",
       "  <thead>\n",
       "    <tr style=\"text-align: right;\">\n",
       "      <th></th>\n",
       "      <th>Date</th>\n",
       "      <th>Open</th>\n",
       "      <th>High</th>\n",
       "      <th>Low</th>\n",
       "      <th>Close</th>\n",
       "      <th>Adj Close</th>\n",
       "      <th>Volume</th>\n",
       "    </tr>\n",
       "  </thead>\n",
       "  <tbody>\n",
       "    <tr>\n",
       "      <th>5784</th>\n",
       "      <td>2023-12-05</td>\n",
       "      <td>190.210007</td>\n",
       "      <td>194.399994</td>\n",
       "      <td>190.179993</td>\n",
       "      <td>193.419998</td>\n",
       "      <td>193.419998</td>\n",
       "      <td>66371700</td>\n",
       "    </tr>\n",
       "    <tr>\n",
       "      <th>5783</th>\n",
       "      <td>2023-12-04</td>\n",
       "      <td>189.979996</td>\n",
       "      <td>190.050003</td>\n",
       "      <td>187.449997</td>\n",
       "      <td>189.429993</td>\n",
       "      <td>189.429993</td>\n",
       "      <td>43389500</td>\n",
       "    </tr>\n",
       "    <tr>\n",
       "      <th>5782</th>\n",
       "      <td>2023-12-01</td>\n",
       "      <td>190.330002</td>\n",
       "      <td>191.559998</td>\n",
       "      <td>189.229996</td>\n",
       "      <td>191.240005</td>\n",
       "      <td>191.240005</td>\n",
       "      <td>45679300</td>\n",
       "    </tr>\n",
       "    <tr>\n",
       "      <th>5781</th>\n",
       "      <td>2023-11-30</td>\n",
       "      <td>189.839996</td>\n",
       "      <td>190.320007</td>\n",
       "      <td>188.190002</td>\n",
       "      <td>189.949997</td>\n",
       "      <td>189.949997</td>\n",
       "      <td>48794400</td>\n",
       "    </tr>\n",
       "    <tr>\n",
       "      <th>5780</th>\n",
       "      <td>2023-11-29</td>\n",
       "      <td>190.899994</td>\n",
       "      <td>192.089996</td>\n",
       "      <td>188.970001</td>\n",
       "      <td>189.369995</td>\n",
       "      <td>189.369995</td>\n",
       "      <td>43014200</td>\n",
       "    </tr>\n",
       "  </tbody>\n",
       "</table>\n",
       "</div>"
      ],
      "text/plain": [
       "            Date        Open        High         Low       Close   Adj Close  \\\n",
       "5784  2023-12-05  190.210007  194.399994  190.179993  193.419998  193.419998   \n",
       "5783  2023-12-04  189.979996  190.050003  187.449997  189.429993  189.429993   \n",
       "5782  2023-12-01  190.330002  191.559998  189.229996  191.240005  191.240005   \n",
       "5781  2023-11-30  189.839996  190.320007  188.190002  189.949997  189.949997   \n",
       "5780  2023-11-29  190.899994  192.089996  188.970001  189.369995  189.369995   \n",
       "\n",
       "        Volume  \n",
       "5784  66371700  \n",
       "5783  43389500  \n",
       "5782  45679300  \n",
       "5781  48794400  \n",
       "5780  43014200  "
      ]
     },
     "execution_count": 13,
     "metadata": {},
     "output_type": "execute_result"
    }
   ],
   "source": [
    "data.sort_values(by=['Date'] ,ascending=False).head()"
   ]
  },
  {
   "cell_type": "markdown",
   "id": "3cc52e9f",
   "metadata": {},
   "source": [
    "#### Copier les données pour les visualiser d'une maniére lisible Pour un non-connaisseur"
   ]
  },
  {
   "cell_type": "code",
   "execution_count": 66,
   "id": "f6e68002",
   "metadata": {},
   "outputs": [],
   "source": [
    "vis = data.copy()"
   ]
  },
  {
   "cell_type": "markdown",
   "id": "e7f8977f",
   "metadata": {},
   "source": [
    "#### reformer les colonnes pour les visualiser\n"
   ]
  },
  {
   "cell_type": "code",
   "execution_count": 67,
   "id": "7cb0e1d2",
   "metadata": {},
   "outputs": [],
   "source": [
    "#Fonction pour reformuler les valeurs des colonnes , tout en gardent que 3 chiffres aprés virgules et ajouter symbole \"$\"\n",
    "def dollar(x):\n",
    "    x = round(x,3)\n",
    "    return (str(x)+\"$\")"
   ]
  },
  {
   "cell_type": "code",
   "execution_count": 68,
   "id": "42eec797",
   "metadata": {},
   "outputs": [],
   "source": [
    "vis['Open'] = vis['Open'].apply(dollar)\n",
    "vis['Close'] = vis['Close'].apply(dollar)"
   ]
  },
  {
   "cell_type": "code",
   "execution_count": 69,
   "id": "12ed3160",
   "metadata": {},
   "outputs": [
    {
     "data": {
      "text/html": [
       "<div>\n",
       "<style scoped>\n",
       "    .dataframe tbody tr th:only-of-type {\n",
       "        vertical-align: middle;\n",
       "    }\n",
       "\n",
       "    .dataframe tbody tr th {\n",
       "        vertical-align: top;\n",
       "    }\n",
       "\n",
       "    .dataframe thead th {\n",
       "        text-align: right;\n",
       "    }\n",
       "</style>\n",
       "<table border=\"1\" class=\"dataframe\">\n",
       "  <thead>\n",
       "    <tr style=\"text-align: right;\">\n",
       "      <th></th>\n",
       "      <th>Open</th>\n",
       "      <th>Close</th>\n",
       "    </tr>\n",
       "    <tr>\n",
       "      <th>Date</th>\n",
       "      <th></th>\n",
       "      <th></th>\n",
       "    </tr>\n",
       "  </thead>\n",
       "  <tbody>\n",
       "    <tr>\n",
       "      <th>2023-12-05</th>\n",
       "      <td>190.21$</td>\n",
       "      <td>193.42$</td>\n",
       "    </tr>\n",
       "    <tr>\n",
       "      <th>2023-12-04</th>\n",
       "      <td>189.98$</td>\n",
       "      <td>189.43$</td>\n",
       "    </tr>\n",
       "    <tr>\n",
       "      <th>2023-12-01</th>\n",
       "      <td>190.33$</td>\n",
       "      <td>191.24$</td>\n",
       "    </tr>\n",
       "    <tr>\n",
       "      <th>2023-11-30</th>\n",
       "      <td>189.84$</td>\n",
       "      <td>189.95$</td>\n",
       "    </tr>\n",
       "    <tr>\n",
       "      <th>2023-11-29</th>\n",
       "      <td>190.9$</td>\n",
       "      <td>189.37$</td>\n",
       "    </tr>\n",
       "  </tbody>\n",
       "</table>\n",
       "</div>"
      ],
      "text/plain": [
       "               Open    Close\n",
       "Date                        \n",
       "2023-12-05  190.21$  193.42$\n",
       "2023-12-04  189.98$  189.43$\n",
       "2023-12-01  190.33$  191.24$\n",
       "2023-11-30  189.84$  189.95$\n",
       "2023-11-29   190.9$  189.37$"
      ]
     },
     "execution_count": 69,
     "metadata": {},
     "output_type": "execute_result"
    }
   ],
   "source": [
    "# Afficher les Colonnes : Date , Open , Close\n",
    "vis = vis.sort_values(by=['Date'] ,ascending=False)\n",
    "vis = vis.set_index('Date')\n",
    "vis.iloc[:5,[0,3]]"
   ]
  },
  {
   "cell_type": "markdown",
   "id": "d105e44c",
   "metadata": {},
   "source": [
    "## Des Informations sur les donnés Chargées"
   ]
  },
  {
   "cell_type": "code",
   "execution_count": 71,
   "id": "9616d7c2",
   "metadata": {},
   "outputs": [
    {
     "name": "stdout",
     "output_type": "stream",
     "text": [
      "le nombre de lignes: 5785\n",
      "le nombre de colonnes: 7\n"
     ]
    }
   ],
   "source": [
    "dim = data.shape\n",
    "print(f\"le nombre de lignes: {dim[0]}\")\n",
    "print(f\"le nombre de colonnes: {dim[1]}\")"
   ]
  },
  {
   "cell_type": "code",
   "execution_count": 72,
   "id": "48cebcea",
   "metadata": {},
   "outputs": [
    {
     "name": "stdout",
     "output_type": "stream",
     "text": [
      "<class 'pandas.core.frame.DataFrame'>\n",
      "RangeIndex: 5785 entries, 0 to 5784\n",
      "Data columns (total 7 columns):\n",
      " #   Column     Non-Null Count  Dtype  \n",
      "---  ------     --------------  -----  \n",
      " 0   Date       5785 non-null   object \n",
      " 1   Open       5785 non-null   float64\n",
      " 2   High       5785 non-null   float64\n",
      " 3   Low        5785 non-null   float64\n",
      " 4   Close      5785 non-null   float64\n",
      " 5   Adj Close  5785 non-null   float64\n",
      " 6   Volume     5785 non-null   int64  \n",
      "dtypes: float64(5), int64(1), object(1)\n",
      "memory usage: 316.5+ KB\n"
     ]
    }
   ],
   "source": [
    "data.info()"
   ]
  },
  {
   "cell_type": "code",
   "execution_count": 74,
   "id": "d91a6576",
   "metadata": {},
   "outputs": [
    {
     "data": {
      "text/plain": [
       "Date         0\n",
       "Open         0\n",
       "High         0\n",
       "Low          0\n",
       "Close        0\n",
       "Adj Close    0\n",
       "Volume       0\n",
       "dtype: int64"
      ]
     },
     "execution_count": 74,
     "metadata": {},
     "output_type": "execute_result"
    }
   ],
   "source": [
    "#chercher s'il existe des valeurs manquantes\n",
    "data.isnull().sum()\n"
   ]
  },
  {
   "cell_type": "markdown",
   "id": "9db7b9c9",
   "metadata": {},
   "source": [
    "# <br> <br> <br> <p style=\"text-align:center\"><span style=\"font-size:48px\">📈<span style=\"color:#8e44ad\"><span style=\"font-family:Comic Sans MS,cursive\">&nbsp;Analyse et Visualisation des donn&eacute;es&nbsp;</span></span>📉</span></p>\n",
    "\n",
    "<p style=\"text-align:center\">&nbsp;</p>\n",
    "\n",
    "<hr />\n",
    "<p>&nbsp;</p>\n"
   ]
  },
  {
   "cell_type": "code",
   "execution_count": null,
   "id": "60826205",
   "metadata": {},
   "outputs": [],
   "source": []
  }
 ],
 "metadata": {
  "kernelspec": {
   "display_name": "Python 3 (ipykernel)",
   "language": "python",
   "name": "python3"
  },
  "language_info": {
   "codemirror_mode": {
    "name": "ipython",
    "version": 3
   },
   "file_extension": ".py",
   "mimetype": "text/x-python",
   "name": "python",
   "nbconvert_exporter": "python",
   "pygments_lexer": "ipython3",
   "version": "3.11.5"
  }
 },
 "nbformat": 4,
 "nbformat_minor": 5
}
