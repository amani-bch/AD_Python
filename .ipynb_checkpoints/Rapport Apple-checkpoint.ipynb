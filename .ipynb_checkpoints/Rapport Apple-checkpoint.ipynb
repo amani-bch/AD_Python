{
 "cells": [
  {
   "cell_type": "markdown",
   "id": "2e48b28d",
   "metadata": {},
   "source": [
    "# Introduction\n",
    "\n",
    "\n",
    "\n",
    "## Entreprise Apple\n",
    "\n",
    "Apple Inc. est une entreprise technologique mondialement reconnue, fondée en 1976 par Steve Jobs, Steve Wozniak et Ronald Wayne. Basée à Cupertino, en Californie, Apple est célèbre pour ses produits emblématiques tels que l'iPhone, l'iPad et le Mac, ainsi que pour son système d'exploitation iOS. L'entreprise propose également une gamme de services, dont iTunes, l'App Store et iCloud. Grâce à son design innovant et à son écosystème intégré, Apple est devenue une référence d'excellence dans l'industrie technologique.\n",
    "\n",
    "\n",
    "\n",
    "\n",
    "\n",
    "## Cahier Jupyter\n",
    "\n",
    "Cet cahier d'analyse examine la performance boursière de Tesla à travers des visualisations. Il explore des indicateurs financiers clés tels que les prix historiques, le volume et la capitalisation boursière. Les visualisations comprennent des graphiques linéaires des prix de clôture au fil du temps, des indicateurs calculés tels que les rendements quotidiens et les moyennes mobiles, ainsi que des graphiques en chandeliers pour montrer les fluctuations quotidiennes des prix. Le cahier se termine par des conclusions et des enseignements clés. Il vise à aider les investisseurs et les analystes à prendre des décisions éclairées basées sur des données historiques et des insights visuels."
   ]
  },
  {
   "cell_type": "markdown",
   "id": "c6beadc1",
   "metadata": {},
   "source": [
    "#  <br> <br> <br> <p style=\"text-align:center\"><span style=\"font-size:72px\">📚</span><span style=\"color:#8e44ad\"><span style=\"font-size:48px\"><span style=\"font-family:Comic Sans MS,cursive\">&nbsp;Importation des Biblioth&eacute;ques&nbsp;</span></span></span></p>\n",
    "\n",
    "<p style=\"text-align:center\">&nbsp;</p>\n",
    "\n",
    "<hr />\n",
    "<p>&nbsp;</p>\n"
   ]
  },
  {
   "cell_type": "code",
   "execution_count": 6,
   "id": "c54020d9",
   "metadata": {},
   "outputs": [],
   "source": [
    "#une bibliothèque de visualisation en 2D\n",
    "import matplotlib.pyplot as plt\n",
    "\n",
    "#une bibliothèque fondamentale pour le calcul numérique\n",
    "import numpy as np\n",
    "\n",
    "#une bibliothèque de visualisation de données et création des graphiques statistiques \n",
    "import seaborn as sns\n",
    "\n",
    "#une bibliothèque qui offre des structures de données et des outils d'analyse de données puissants. \n",
    "import pandas as pd"
   ]
  },
  {
   "cell_type": "code",
   "execution_count": null,
   "id": "0f8a4c4e",
   "metadata": {},
   "outputs": [],
   "source": []
  }
 ],
 "metadata": {
  "kernelspec": {
   "display_name": "Python 3 (ipykernel)",
   "language": "python",
   "name": "python3"
  },
  "language_info": {
   "codemirror_mode": {
    "name": "ipython",
    "version": 3
   },
   "file_extension": ".py",
   "mimetype": "text/x-python",
   "name": "python",
   "nbconvert_exporter": "python",
   "pygments_lexer": "ipython3",
   "version": "3.11.5"
  }
 },
 "nbformat": 4,
 "nbformat_minor": 5
}
